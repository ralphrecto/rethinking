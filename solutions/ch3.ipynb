{
 "cells": [
  {
   "cell_type": "code",
   "execution_count": 88,
   "metadata": {},
   "outputs": [
    {
     "name": "stdout",
     "output_type": "stream",
     "text": [
      "The autoreload extension is already loaded. To reload it, use:\n",
      "  %reload_ext autoreload\n"
     ]
    }
   ],
   "source": [
    "# Prelude\n",
    "import ralphlib\n",
    "import scipy.stats as stats\n",
    "import numpy as np\n",
    "import pandas as pd\n",
    "import matplotlib.pyplot as plt\n",
    "\n",
    "%load_ext autoreload\n",
    "%autoreload 2"
   ]
  },
  {
   "cell_type": "code",
   "execution_count": 89,
   "metadata": {},
   "outputs": [
    {
     "data": {
      "text/plain": [
       "<matplotlib.axes._subplots.AxesSubplot at 0x1a2135a748>"
      ]
     },
     "execution_count": 89,
     "metadata": {},
     "output_type": "execute_result"
    },
    {
     "data": {
      "image/png": "[encoded data removed]",
      "text/plain": [
       "<Figure size 432x288 with 1 Axes>"
      ]
     },
     "metadata": {
      "needs_background": "light"
     },
     "output_type": "display_data"
    }
   ],
   "source": [
    "# 3E1\n",
    "def world_toss_likelihood(num_water, num_tries):\n",
    "    return lambda grid: stats.binom.pmf(num_water, num_tries, grid)\n",
    "\n",
    "grid = np.linspace(start=0, stop=1, num=1000)\n",
    "posterior = pd.Series(\n",
    "    data=ralphlib.grid_approx(\n",
    "        ralphlib.uniform_prior,\n",
    "        world_toss_likelihood(6, 9),\n",
    "        grid\n",
    "    ),\n",
    "    index=grid\n",
    ")\n",
    "posterior.plot()"
   ]
  },
  {
   "cell_type": "code",
   "execution_count": 90,
   "metadata": {},
   "outputs": [
    {
     "data": {
      "text/plain": [
       "0.9991439048705782"
      ]
     },
     "execution_count": 90,
     "metadata": {},
     "output_type": "execute_result"
    }
   ],
   "source": [
    "posterior[posterior.index >= 0.2].sum()"
   ]
  },
  {
   "cell_type": "code",
   "execution_count": 91,
   "metadata": {},
   "outputs": [
    {
     "data": {
      "text/plain": [
       "(array([   74.,   656.,  2709.,  7669., 14620., 21276., 24144., 18780.,\n",
       "         8834.,  1238.]),\n",
       " array([0.1031031 , 0.19179179, 0.28048048, 0.36916917, 0.45785786,\n",
       "        0.54654655, 0.63523524, 0.72392392, 0.81261261, 0.9013013 ,\n",
       "        0.98998999]),\n",
       " <a list of 10 Patch objects>)"
      ]
     },
     "execution_count": 91,
     "metadata": {},
     "output_type": "execute_result"
    },
    {
     "data": {
      "image/png": "[encoded data removed]",
      "text/plain": [
       "<Figure size 432x288 with 1 Axes>"
      ]
     },
     "metadata": {
      "needs_background": "light"
     },
     "output_type": "display_data"
    }
   ],
   "source": [
    "sample_size = 100000\n",
    "sample = ralphlib.sample(posterior, sample_size)\n",
    "plt.hist(sample)"
   ]
  },
  {
   "cell_type": "code",
   "execution_count": 92,
   "metadata": {},
   "outputs": [],
   "source": [
    "param_values, counts = np.unique(sample, return_counts=True)\n",
    "sample_freq = pd.Series(\n",
    "    index=param_values,\n",
    "    data=counts / sample_size\n",
    ")"
   ]
  },
  {
   "cell_type": "code",
   "execution_count": 93,
   "metadata": {},
   "outputs": [
    {
     "data": {
      "text/plain": [
       "0.0009200000000000001"
      ]
     },
     "execution_count": 93,
     "metadata": {},
     "output_type": "execute_result"
    }
   ],
   "source": [
    "# 3E1\n",
    "# Note: we are working with frequencies here! \n",
    "sample_freq[sample_freq.index < 0.2].sum()"
   ]
  },
  {
   "cell_type": "code",
   "execution_count": 94,
   "metadata": {},
   "outputs": [
    {
     "data": {
      "text/plain": [
       "0.12075999999999999"
      ]
     },
     "execution_count": 94,
     "metadata": {},
     "output_type": "execute_result"
    }
   ],
   "source": [
    "# 3E2\n",
    "sample_freq[sample_freq.index > 0.8].sum()"
   ]
  },
  {
   "cell_type": "code",
   "execution_count": 95,
   "metadata": {},
   "outputs": [
    {
     "data": {
      "text/plain": [
       "0.87832"
      ]
     },
     "execution_count": 95,
     "metadata": {},
     "output_type": "execute_result"
    }
   ],
   "source": [
    "# 3E3\n",
    "sample_freq[(sample_freq.index > 0.2) & (sample_freq.index < 0.8)].sum()"
   ]
  },
  {
   "cell_type": "code",
   "execution_count": 96,
   "metadata": {},
   "outputs": [
    {
     "data": {
      "text/plain": [
       "0.5165165165165165"
      ]
     },
     "execution_count": 96,
     "metadata": {},
     "output_type": "execute_result"
    }
   ],
   "source": [
    "# 2E4\n",
    "# Note: we are working directly with samples here!\n",
    "# It's not easy (or possible? I think you need actual occurrence numbers and \n",
    "# not just frequency/probability?) to compute quantiles over frequencies/\n",
    "# probabilities.\n",
    "quantile0_2 = np.quantile(sample, 0.2)\n",
    "quantile0_2"
   ]
  },
  {
   "cell_type": "code",
   "execution_count": 97,
   "metadata": {},
   "outputs": [
    {
     "data": {
      "text/plain": [
       "0.20108000000000004"
      ]
     },
     "execution_count": 97,
     "metadata": {},
     "output_type": "execute_result"
    }
   ],
   "source": [
    "sample_freq[sample_freq.index <= quantile0_2].sum()"
   ]
  },
  {
   "cell_type": "code",
   "execution_count": 98,
   "metadata": {},
   "outputs": [
    {
     "data": {
      "text/plain": [
       "0.7607607607607607"
      ]
     },
     "execution_count": 98,
     "metadata": {},
     "output_type": "execute_result"
    }
   ],
   "source": [
    "# 2E5\n",
    "quantile0_8 = np.quantile(sample, 0.8)\n",
    "quantile0_8"
   ]
  },
  {
   "cell_type": "code",
   "execution_count": 99,
   "metadata": {},
   "outputs": [
    {
     "data": {
      "text/plain": [
       "0.19899"
      ]
     },
     "execution_count": 99,
     "metadata": {},
     "output_type": "execute_result"
    }
   ],
   "source": [
    "sample_freq[sample_freq.index > quantile0_8].sum()"
   ]
  },
  {
   "cell_type": "code",
   "execution_count": 100,
   "metadata": {},
   "outputs": [],
   "source": [
    "# 3E6\n",
    "def hdpi(sample, density):\n",
    "    \"\"\"Compute the highest density interval of the given density\n",
    "    using the given samples from a distribution.\"\"\"\n",
    "    param_values, counts = np.unique(sample, return_counts=True)\n",
    "    distribution = pd.Series(\n",
    "        index=param_values,\n",
    "        data=counts / len(sample)\n",
    "    )\n",
    "    \n",
    "    distr_cumsum = distribution.cumsum()\n",
    "    cumsum_density = distr_cumsum + density\n",
    "    cumsum_density = cumsum_density[cumsum_density <= 1.0]\n",
    "    # TODO do we need to finagle the np.quantile call to ensure it\n",
    "    # only returns parameter values in the grid?\n",
    "    q_series = cumsum_density.apply(lambda q: np.quantile(sample, q))\n",
    "    \n",
    "    fin_series = pd.Series(\n",
    "        data=(q_series.values - q_series.index),\n",
    "        index=q_series\n",
    "    )\n",
    "    \n",
    "    fin_df = pd.DataFrame(\n",
    "        data={\n",
    "            \"rhs\": q_series.values,\n",
    "            \"width\": q_series.values - q_series.index\n",
    "        },\n",
    "        index=q_series.index\n",
    "    )\n",
    "    \n",
    "    # interval of given density with minimum width\n",
    "    lhs = fin_df[\"width\"].idxmin()\n",
    "    return (lhs, fin_df[\"rhs\"][lhs])"
   ]
  },
  {
   "cell_type": "code",
   "execution_count": 101,
   "metadata": {},
   "outputs": [],
   "source": [
    "hpdi_interval = hdpi(sample, 0.66)"
   ]
  },
  {
   "cell_type": "code",
   "execution_count": 102,
   "metadata": {},
   "outputs": [],
   "source": [
    "# 3E7\n",
    "outside_half_density = (1-0.66)/2\n",
    "eq_lhs = np.quantile(sample, outside_half_density)\n",
    "eq_rhs = np.quantile(sample, 1 - outside_half_density)\n",
    "symmetric_interval = (eq_lhs, eq_rhs)"
   ]
  },
  {
   "cell_type": "code",
   "execution_count": 103,
   "metadata": {},
   "outputs": [
    {
     "data": {
      "text/plain": [
       "0.6996996996996997"
      ]
     },
     "execution_count": 103,
     "metadata": {},
     "output_type": "execute_result"
    }
   ],
   "source": [
    "# bonus: what is the value of p with maximal density?\n",
    "sample_freq.idxmax()"
   ]
  },
  {
   "cell_type": "code",
   "execution_count": 104,
   "metadata": {},
   "outputs": [
    {
     "data": {
      "text/plain": [
       "(0.27527527527527523, 0.2732732732732732)"
      ]
     },
     "execution_count": 104,
     "metadata": {},
     "output_type": "execute_result"
    }
   ],
   "source": [
    "# bonus: widths of the two intervals\n",
    "symmetric_width = symmetric_interval[1] - symmetric_interval[0]\n",
    "hpdi_width = hpdi_interval[1] - hpdi_interval[0]\n",
    "(symmetric_width, hpdi_width)"
   ]
  },
  {
   "cell_type": "code",
   "execution_count": 105,
   "metadata": {},
   "outputs": [
    {
     "data": {
      "text/plain": [
       "<matplotlib.axes._subplots.AxesSubplot at 0x1a20d236a0>"
      ]
     },
     "execution_count": 105,
     "metadata": {},
     "output_type": "execute_result"
    },
    {
     "data": {
      "image/png": "[encoded data removed]",
      "text/plain": [
       "<Figure size 432x288 with 1 Axes>"
      ]
     },
     "metadata": {
      "needs_background": "light"
     },
     "output_type": "display_data"
    }
   ],
   "source": [
    "# 3M1\n",
    "posterior2 = pd.Series(\n",
    "    data=ralphlib.grid_approx(\n",
    "        ralphlib.uniform_prior,\n",
    "        world_toss_likelihood(8, 15),\n",
    "        grid\n",
    "    ),\n",
    "    index=grid\n",
    ")\n",
    "posterior2.plot()"
   ]
  },
  {
   "cell_type": "code",
   "execution_count": 106,
   "metadata": {},
   "outputs": [
    {
     "data": {
      "text/plain": [
       "(0.34234234234234234, 0.7247247247247247)"
      ]
     },
     "execution_count": 106,
     "metadata": {},
     "output_type": "execute_result"
    }
   ],
   "source": [
    "# 3M2\n",
    "sample2 = ralphlib.sample(posterior2, 10000)\n",
    "hdpi(sample2, 0.9)"
   ]
  },
  {
   "cell_type": "code",
   "execution_count": 107,
   "metadata": {},
   "outputs": [
    {
     "data": {
      "text/plain": [
       "(array([   2.,   44.,  113.,  267.,  499.,  852., 1068., 1386., 1444.,\n",
       "        1468., 1146.,  865.,  515.,  242.,   89.]),\n",
       " array([ 0,  1,  2,  3,  4,  5,  6,  7,  8,  9, 10, 11, 12, 13, 14, 15]),\n",
       " <a list of 15 Patch objects>)"
      ]
     },
     "execution_count": 107,
     "metadata": {},
     "output_type": "execute_result"
    },
    {
     "data": {
      "image/png": "[encoded data removed]",
      "text/plain": [
       "<Figure size 432x288 with 1 Axes>"
      ]
     },
     "metadata": {
      "needs_background": "light"
     },
     "output_type": "display_data"
    }
   ],
   "source": [
    "# 3M3\n",
    "posterior_predictive_samples = np.vectorize(lambda p: np.random.binomial(15, p))(sample2)\n",
    "plt.hist(posterior_predictive_samples, range(0, 16))"
   ]
  },
  {
   "cell_type": "code",
   "execution_count": 108,
   "metadata": {},
   "outputs": [
    {
     "data": {
      "text/plain": [
       "<matplotlib.axes._subplots.AxesSubplot at 0x1a2177cac8>"
      ]
     },
     "execution_count": 108,
     "metadata": {},
     "output_type": "execute_result"
    },
    {
     "data": {
      "image/png": "[encoded data removed]",
      "text/plain": [
       "<Figure size 432x288 with 1 Axes>"
      ]
     },
     "metadata": {
      "needs_background": "light"
     },
     "output_type": "display_data"
    }
   ],
   "source": [
    "pp_vals, pp_counts = np.unique(posterior_predictive_samples, return_counts=True)\n",
    "pp_distr = pd.Series(\n",
    "    data=pp_counts / len(posterior_predictive_samples),\n",
    "    index=pp_vals\n",
    ")\n",
    "pp_distr.plot()"
   ]
  },
  {
   "cell_type": "code",
   "execution_count": 109,
   "metadata": {},
   "outputs": [
    {
     "data": {
      "text/plain": [
       "0.1444"
      ]
     },
     "execution_count": 109,
     "metadata": {},
     "output_type": "execute_result"
    }
   ],
   "source": [
    "pp_distr[8]"
   ]
  },
  {
   "cell_type": "code",
   "execution_count": 110,
   "metadata": {},
   "outputs": [
    {
     "data": {
      "text/plain": [
       "0.1816"
      ]
     },
     "execution_count": 110,
     "metadata": {},
     "output_type": "execute_result"
    }
   ],
   "source": [
    "# 3M4\n",
    "posterior_predictive_samples_3m4 = np.vectorize(lambda p: np.random.binomial(9, p))(sample2)\n",
    "pp_3m4_vals, pp_3m4_counts = np.unique(posterior_predictive_samples_3m4, return_counts=True)\n",
    "pp_3m4_distr = pd.Series(\n",
    "    data=(pp_3m4_counts / len(sample2)),\n",
    "    index=pp_3m4_vals\n",
    ")\n",
    "pp_3m4_distr[6]"
   ]
  },
  {
   "cell_type": "code",
   "execution_count": 138,
   "metadata": {},
   "outputs": [
    {
     "data": {
      "text/plain": [
       "<matplotlib.axes._subplots.AxesSubplot at 0x1a21b8bef0>"
      ]
     },
     "execution_count": 138,
     "metadata": {},
     "output_type": "execute_result"
    },
    {
     "data": {
      "image/png": "[encoded data removed]",
      "text/plain": [
       "<Figure size 432x288 with 1 Axes>"
      ]
     },
     "metadata": {
      "needs_background": "light"
     },
     "output_type": "display_data"
    }
   ],
   "source": [
    "# 3M7\n",
    "def nonuniform_prior(grid):\n",
    "    gte0_5_prior = ralphlib.uniform_prior(grid[grid >= 0.5])\n",
    "    gte0_5_prior *= 2\n",
    "    lt0_5_prior = grid[grid < 0.5]\n",
    "    lt0_5_prior.fill(0)\n",
    "    return pd.Series(\n",
    "        data=np.concatenate((lt0_5_prior, gte0_5_prior)),\n",
    "        index=grid\n",
    "    )\n",
    "\n",
    "posterior_non_uniform = pd.Series(\n",
    "    data=ralphlib.grid_approx(\n",
    "        nonuniform_prior,\n",
    "        world_toss_likelihood(8, 15),\n",
    "        grid\n",
    "    ),\n",
    "    index=grid\n",
    ")\n",
    "posterior_non_uniform.plot()"
   ]
  },
  {
   "cell_type": "code",
   "execution_count": 168,
   "metadata": {},
   "outputs": [
    {
     "data": {
      "text/plain": [
       "(array([2.41583e+05, 2.30929e+05, 1.97986e+05, 1.49147e+05, 9.67010e+04,\n",
       "        5.24000e+04, 2.25590e+04, 7.11000e+03, 1.46700e+03, 1.18000e+02]),\n",
       " array([0.5005005 , 0.54464464, 0.58878879, 0.63293293, 0.67707708,\n",
       "        0.72122122, 0.76536537, 0.80950951, 0.85365365, 0.8977978 ,\n",
       "        0.94194194]),\n",
       " <a list of 10 Patch objects>)"
      ]
     },
     "execution_count": 168,
     "metadata": {},
     "output_type": "execute_result"
    },
    {
     "data": {
      "image/png": "[encoded data removed]",
      "text/plain": [
       "<Figure size 432x288 with 1 Axes>"
      ]
     },
     "metadata": {
      "needs_background": "light"
     },
     "output_type": "display_data"
    }
   ],
   "source": [
    "nonuniform_sample = ralphlib.sample(posterior_non_uniform, 1000000)\n",
    "plt.hist(nonuniform_sample)"
   ]
  },
  {
   "cell_type": "code",
   "execution_count": 169,
   "metadata": {},
   "outputs": [
    {
     "data": {
      "text/plain": [
       "(0.5005005005005005, 0.7147147147147147)"
      ]
     },
     "execution_count": 169,
     "metadata": {},
     "output_type": "execute_result"
    }
   ],
   "source": [
    "hdpi(nonuniform_sample, 0.9)"
   ]
  },
  {
   "cell_type": "code",
   "execution_count": 170,
   "metadata": {},
   "outputs": [
    {
     "data": {
      "text/plain": [
       "<matplotlib.axes._subplots.AxesSubplot at 0x1a23b00470>"
      ]
     },
     "execution_count": 170,
     "metadata": {},
     "output_type": "execute_result"
    },
    {
     "data": {
      "image/png": "[encoded data removed]",
      "text/plain": [
       "<Figure size 432x288 with 1 Axes>"
      ]
     },
     "metadata": {
      "needs_background": "light"
     },
     "output_type": "display_data"
    }
   ],
   "source": [
    "pp_sample = np.vectorize(lambda p: np.random.binomial(15, p))(nonuniform_sample)\n",
    "pp_vals, pp_counts = np.unique(pp_sample, return_counts=True)\n",
    "pp_distr = pd.Series(\n",
    "    data=pp_counts / len(pp_sample),\n",
    "    index = pp_vals\n",
    ")\n",
    "pp_distr.plot()"
   ]
  },
  {
   "cell_type": "code",
   "execution_count": 171,
   "metadata": {},
   "outputs": [
    {
     "data": {
      "text/plain": [
       "0.157247"
      ]
     },
     "execution_count": 171,
     "metadata": {},
     "output_type": "execute_result"
    }
   ],
   "source": [
    "pp_distr[8]"
   ]
  },
  {
   "cell_type": "code",
   "execution_count": 165,
   "metadata": {},
   "outputs": [
    {
     "data": {
      "text/plain": [
       "<matplotlib.axes._subplots.AxesSubplot at 0x1a221ac898>"
      ]
     },
     "execution_count": 165,
     "metadata": {},
     "output_type": "execute_result"
    },
    {
     "data": {
      "image/png": "[encoded data removed]",
      "text/plain": [
       "<Figure size 432x288 with 1 Axes>"
      ]
     },
     "metadata": {
      "needs_background": "light"
     },
     "output_type": "display_data"
    }
   ],
   "source": [
    "pp_sample9 = np.vectorize(lambda p: np.random.binomial(9, p))(nonuniform_sample)\n",
    "pp_vals9, pp_counts9 = np.unique(pp_sample9, return_counts=True)\n",
    "pp_distr9 = pd.Series(\n",
    "    data=pp_counts9 / len(pp_sample9),\n",
    "    index = pp_vals9\n",
    ")\n",
    "pp_distr9.plot()"
   ]
  },
  {
   "cell_type": "code",
   "execution_count": 172,
   "metadata": {},
   "outputs": [
    {
     "data": {
      "text/plain": [
       "0.2302"
      ]
     },
     "execution_count": 172,
     "metadata": {},
     "output_type": "execute_result"
    }
   ],
   "source": [
    "pp_distr9[6]"
   ]
  },
  {
   "cell_type": "markdown",
   "metadata": {},
   "source": []
  }
 ],
 "metadata": {
  "kernelspec": {
   "display_name": "Python 3",
   "language": "python",
   "name": "python3"
  },
  "language_info": {
   "codemirror_mode": {
    "name": "ipython",
    "version": 3
   },
   "file_extension": ".py",
   "mimetype": "text/x-python",
   "name": "python",
   "nbconvert_exporter": "python",
   "pygments_lexer": "ipython3",
   "version": "3.7.1"
  }
 },
 "nbformat": 4,
 "nbformat_minor": 2
}
