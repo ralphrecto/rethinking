{
 "cells": [
  {
   "cell_type": "code",
   "execution_count": 14,
   "metadata": {},
   "outputs": [
    {
     "name": "stdout",
     "output_type": "stream",
     "text": [
      "The autoreload extension is already loaded. To reload it, use:\n",
      "  %reload_ext autoreload\n"
     ]
    }
   ],
   "source": [
    "# Prelude\n",
    "import ralphlib\n",
    "import scipy.stats as stats\n",
    "import numpy as np\n",
    "import pandas as pd\n",
    "import matplotlib.pyplot as plt\n",
    "\n",
    "%load_ext autoreload\n",
    "%autoreload 2"
   ]
  },
  {
   "cell_type": "code",
   "execution_count": 68,
   "metadata": {},
   "outputs": [
    {
     "data": {
      "text/plain": [
       "<matplotlib.axes._subplots.AxesSubplot at 0x1a1eeda550>"
      ]
     },
     "execution_count": 68,
     "metadata": {},
     "output_type": "execute_result"
    },
    {
     "data": {
      "image/png": "[encoded data removed]",
      "text/plain": [
       "<Figure size 432x288 with 1 Axes>"
      ]
     },
     "metadata": {
      "needs_background": "light"
     },
     "output_type": "display_data"
    }
   ],
   "source": [
    "# 3E1\n",
    "def world_toss_likelihood(num_water, num_tries):\n",
    "    return lambda grid: stats.binom.pmf(num_water, num_tries, grid)\n",
    "\n",
    "grid = np.linspace(start=0, stop=1, num=1000)\n",
    "posterior = pd.Series(\n",
    "    data=ralphlib.grid_approx(\n",
    "        ralphlib.uniform_prior,\n",
    "        world_toss_likelihood(6, 9),\n",
    "        grid\n",
    "    ),\n",
    "    index=grid\n",
    ")\n",
    "posterior.plot()"
   ]
  },
  {
   "cell_type": "code",
   "execution_count": 55,
   "metadata": {},
   "outputs": [
    {
     "data": {
      "text/plain": [
       "0.9991439048705782"
      ]
     },
     "execution_count": 55,
     "metadata": {},
     "output_type": "execute_result"
    }
   ],
   "source": [
    "posterior[posterior.index >= 0.2].sum()"
   ]
  },
  {
   "cell_type": "code",
   "execution_count": 88,
   "metadata": {},
   "outputs": [
    {
     "data": {
      "text/plain": [
       "(array([1.88000e+02, 3.30700e+03, 1.98800e+04, 6.32650e+04, 1.35321e+05,\n",
       "        2.14647e+05, 2.47296e+05, 2.05541e+05, 9.71130e+04, 1.34420e+04]),\n",
       " array([0.06606607, 0.15855856, 0.25105105, 0.34354354, 0.43603604,\n",
       "        0.52852853, 0.62102102, 0.71351351, 0.80600601, 0.8984985 ,\n",
       "        0.99099099]),\n",
       " <a list of 10 Patch objects>)"
      ]
     },
     "execution_count": 88,
     "metadata": {},
     "output_type": "execute_result"
    },
    {
     "data": {
      "image/png": "[encoded data removed]",
      "text/plain": [
       "<Figure size 432x288 with 1 Axes>"
      ]
     },
     "metadata": {
      "needs_background": "light"
     },
     "output_type": "display_data"
    }
   ],
   "source": [
    "sample_size = 1000000\n",
    "sample = ralphlib.sample(posterior, sample_size)\n",
    "plt.hist(sample)"
   ]
  },
  {
   "cell_type": "code",
   "execution_count": 97,
   "metadata": {},
   "outputs": [],
   "source": [
    "param_values, counts = np.unique(sample, return_counts=True)\n",
    "sample_freq = pd.Series(\n",
    "    index=param_values,\n",
    "    data=counts / sample_size\n",
    ")"
   ]
  },
  {
   "cell_type": "code",
   "execution_count": 100,
   "metadata": {},
   "outputs": [
    {
     "data": {
      "text/plain": [
       "0.0008320000000000001"
      ]
     },
     "execution_count": 100,
     "metadata": {},
     "output_type": "execute_result"
    }
   ],
   "source": [
    "# 3E1\n",
    "# Note: we are working with frequencies here! \n",
    "sample_freq[sample_freq.index < 0.2].sum()"
   ]
  },
  {
   "cell_type": "code",
   "execution_count": 144,
   "metadata": {},
   "outputs": [
    {
     "data": {
      "text/plain": [
       "0.12095500000000001"
      ]
     },
     "execution_count": 144,
     "metadata": {},
     "output_type": "execute_result"
    }
   ],
   "source": [
    "# 3E2\n",
    "sample_freq[sample_freq.index > 0.8].sum()"
   ]
  },
  {
   "cell_type": "code",
   "execution_count": 110,
   "metadata": {},
   "outputs": [
    {
     "data": {
      "text/plain": [
       "0.878213"
      ]
     },
     "execution_count": 110,
     "metadata": {},
     "output_type": "execute_result"
    }
   ],
   "source": [
    "# 3E3\n",
    "sample_freq[(sample_freq.index > 0.2) & (sample_freq.index < 0.8)].sum()"
   ]
  },
  {
   "cell_type": "code",
   "execution_count": 141,
   "metadata": {},
   "outputs": [
    {
     "data": {
      "text/plain": [
       "0.5165165165165165"
      ]
     },
     "execution_count": 141,
     "metadata": {},
     "output_type": "execute_result"
    }
   ],
   "source": [
    "# 2E4\n",
    "# Note: we are working directly with samples here!\n",
    "quantile0_2 = np.quantile(sample, 0.2)\n",
    "quantile0_2"
   ]
  },
  {
   "cell_type": "code",
   "execution_count": 143,
   "metadata": {},
   "outputs": [
    {
     "data": {
      "text/plain": [
       "0.201505"
      ]
     },
     "execution_count": 143,
     "metadata": {},
     "output_type": "execute_result"
    }
   ],
   "source": [
    "sample_freq[sample_freq.index <= quantile0_2].sum()"
   ]
  },
  {
   "cell_type": "code",
   "execution_count": 151,
   "metadata": {},
   "outputs": [
    {
     "data": {
      "text/plain": [
       "0.7607607607607607"
      ]
     },
     "execution_count": 151,
     "metadata": {},
     "output_type": "execute_result"
    }
   ],
   "source": [
    "# 2E5\n",
    "quantile0_8 = np.quantile(sample, 0.8)\n",
    "quantile0_8"
   ]
  },
  {
   "cell_type": "code",
   "execution_count": 154,
   "metadata": {},
   "outputs": [
    {
     "data": {
      "text/plain": [
       "0.19896999999999998"
      ]
     },
     "execution_count": 154,
     "metadata": {},
     "output_type": "execute_result"
    }
   ],
   "source": [
    "sample_freq[sample_freq.index > quantile0_8].sum()"
   ]
  },
  {
   "cell_type": "code",
   "execution_count": 172,
   "metadata": {},
   "outputs": [],
   "source": [
    "# 3E6\n",
    "sample_freq_cumsum = sample_freq.cumsum()\n",
    "cumsum0_66 = sample_freq_cumsum + 0.66\n",
    "cumsum0_66 = cumsum0_66[cumsum0_66 <= 1.0]\n",
    "q_series = cumsum0_66.apply(lambda q: np.quantile(sample, q))"
   ]
  },
  {
   "cell_type": "code",
   "execution_count": 176,
   "metadata": {},
   "outputs": [],
   "source": [
    "fin_series = pd.Series(\n",
    "    data=(q_series.values - q_series.index),\n",
    "    index=q_series\n",
    ")"
   ]
  },
  {
   "cell_type": "code",
   "execution_count": 212,
   "metadata": {},
   "outputs": [
    {
     "data": {
      "text/plain": [
       "(0.5105105105105106, 0.7847847847847848)"
      ]
     },
     "execution_count": 212,
     "metadata": {},
     "output_type": "execute_result"
    }
   ],
   "source": [
    "fin_df = pd.DataFrame(\n",
    "    data={\n",
    "        \"rhs\": q_series.values,\n",
    "        \"width\": q_series.values - q_series.index\n",
    "    },\n",
    "    index=q_series.index\n",
    ")\n",
    "# interval of density 66% with minimum width\n",
    "lhs = fin_df[\"width\"].idxmin()\n",
    "hpdi_interval = (lhs, fin_df[\"rhs\"][lhs])\n",
    "hpdi_interval"
   ]
  },
  {
   "cell_type": "code",
   "execution_count": 213,
   "metadata": {},
   "outputs": [],
   "source": [
    "# 3E7\n",
    "outside_half_density = (1-0.66)/2\n",
    "eq_lhs = np.quantile(sample, outside_half_density)\n",
    "eq_rhs = np.quantile(sample, 1 - outside_half_density)\n",
    "symmetric_interval = (eq_lhs, eq_rhs)"
   ]
  },
  {
   "cell_type": "code",
   "execution_count": 214,
   "metadata": {},
   "outputs": [
    {
     "data": {
      "text/plain": [
       "0.6526526526526526"
      ]
     },
     "execution_count": 214,
     "metadata": {},
     "output_type": "execute_result"
    }
   ],
   "source": [
    "# bonus: what is the value of p with maximal density?\n",
    "sample_freq.idxmax()"
   ]
  },
  {
   "cell_type": "code",
   "execution_count": 216,
   "metadata": {},
   "outputs": [
    {
     "data": {
      "text/plain": [
       "(0.27627627627627627, 0.2742742742742742)"
      ]
     },
     "execution_count": 216,
     "metadata": {},
     "output_type": "execute_result"
    }
   ],
   "source": [
    "# bonus: widths of the two intervals\n",
    "symmetric_width = symmetric_interval[1] - symmetric_interval[0]\n",
    "hpdi_width = hpdi_interval[1] - hpdi_interval[0]\n",
    "(symmetric_width, hpdi_width)"
   ]
  }
 ],
 "metadata": {
  "kernelspec": {
   "display_name": "Python 3",
   "language": "python",
   "name": "python3"
  },
  "language_info": {
   "codemirror_mode": {
    "name": "ipython",
    "version": 3
   },
   "file_extension": ".py",
   "mimetype": "text/x-python",
   "name": "python",
   "nbconvert_exporter": "python",
   "pygments_lexer": "ipython3",
   "version": "3.7.1"
  }
 },
 "nbformat": 4,
 "nbformat_minor": 2
}
