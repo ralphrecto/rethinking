{
 "cells": [
  {
   "cell_type": "code",
   "execution_count": 2,
   "metadata": {},
   "outputs": [],
   "source": [
    "# Prelude\n",
    "import ralphlib\n",
    "import scipy.stats as stats\n",
    "import numpy as np\n",
    "import pandas as pd\n",
    "import matplotlib.pyplot as plt\n",
    "\n",
    "%load_ext autoreload\n",
    "%autoreload 2"
   ]
  },
  {
   "cell_type": "code",
   "execution_count": 3,
   "metadata": {},
   "outputs": [
    {
     "data": {
      "text/plain": [
       "<matplotlib.axes._subplots.AxesSubplot at 0x1a21fddef0>"
      ]
     },
     "execution_count": 3,
     "metadata": {},
     "output_type": "execute_result"
    },
    {
     "data": {
      "image/png": "[encoded data removed]",
      "text/plain": [
       "<Figure size 432x288 with 1 Axes>"
      ]
     },
     "metadata": {
      "needs_background": "light"
     },
     "output_type": "display_data"
    }
   ],
   "source": [
    "# 3E1\n",
    "def world_toss_likelihood(num_water, num_tries):\n",
    "    return lambda grid: stats.binom.pmf(num_water, num_tries, grid)\n",
    "\n",
    "grid = np.linspace(start=0, stop=1, num=1000)\n",
    "posterior = pd.Series(\n",
    "    data=ralphlib.grid_approx(\n",
    "        ralphlib.uniform_prior,\n",
    "        world_toss_likelihood(6, 9),\n",
    "        grid\n",
    "    ),\n",
    "    index=grid\n",
    ")\n",
    "posterior.plot()"
   ]
  },
  {
   "cell_type": "code",
   "execution_count": 4,
   "metadata": {},
   "outputs": [
    {
     "data": {
      "text/plain": [
       "0.9991439048705782"
      ]
     },
     "execution_count": 4,
     "metadata": {},
     "output_type": "execute_result"
    }
   ],
   "source": [
    "posterior[posterior.index >= 0.2].sum()"
   ]
  },
  {
   "cell_type": "code",
   "execution_count": 5,
   "metadata": {},
   "outputs": [
    {
     "data": {
      "text/plain": [
       "(array([   53.,   522.,  2557.,  7065., 13974., 21279., 24077., 19479.,\n",
       "         9518.,  1476.]),\n",
       " array([0.09409409, 0.18308308, 0.27207207, 0.36106106, 0.45005005,\n",
       "        0.53903904, 0.62802803, 0.71701702, 0.80600601, 0.89499499,\n",
       "        0.98398398]),\n",
       " <a list of 10 Patch objects>)"
      ]
     },
     "execution_count": 5,
     "metadata": {},
     "output_type": "execute_result"
    },
    {
     "data": {
      "image/png": "[encoded data removed]",
      "text/plain": [
       "<Figure size 432x288 with 1 Axes>"
      ]
     },
     "metadata": {
      "needs_background": "light"
     },
     "output_type": "display_data"
    }
   ],
   "source": [
    "sample_size = 100000\n",
    "sample = ralphlib.sample(posterior, sample_size)\n",
    "plt.hist(sample)"
   ]
  },
  {
   "cell_type": "code",
   "execution_count": 6,
   "metadata": {},
   "outputs": [],
   "source": [
    "param_values, counts = np.unique(sample, return_counts=True)\n",
    "sample_freq = pd.Series(\n",
    "    index=param_values,\n",
    "    data=counts / sample_size\n",
    ")"
   ]
  },
  {
   "cell_type": "code",
   "execution_count": 7,
   "metadata": {},
   "outputs": [
    {
     "data": {
      "text/plain": [
       "0.0009000000000000001"
      ]
     },
     "execution_count": 7,
     "metadata": {},
     "output_type": "execute_result"
    }
   ],
   "source": [
    "# 3E1\n",
    "# Note: we are working with frequencies here! \n",
    "sample_freq[sample_freq.index < 0.2].sum()"
   ]
  },
  {
   "cell_type": "code",
   "execution_count": 8,
   "metadata": {},
   "outputs": [
    {
     "data": {
      "text/plain": [
       "0.12037"
      ]
     },
     "execution_count": 8,
     "metadata": {},
     "output_type": "execute_result"
    }
   ],
   "source": [
    "# 3E2\n",
    "sample_freq[sample_freq.index > 0.8].sum()"
   ]
  },
  {
   "cell_type": "code",
   "execution_count": 9,
   "metadata": {},
   "outputs": [
    {
     "data": {
      "text/plain": [
       "0.87873"
      ]
     },
     "execution_count": 9,
     "metadata": {},
     "output_type": "execute_result"
    }
   ],
   "source": [
    "# 3E3\n",
    "sample_freq[(sample_freq.index > 0.2) & (sample_freq.index < 0.8)].sum()"
   ]
  },
  {
   "cell_type": "code",
   "execution_count": 10,
   "metadata": {},
   "outputs": [
    {
     "data": {
      "text/plain": [
       "0.5175175175175175"
      ]
     },
     "execution_count": 10,
     "metadata": {},
     "output_type": "execute_result"
    }
   ],
   "source": [
    "# 2E4\n",
    "# Note: we are working directly with samples here!\n",
    "# It's not easy (or possible? I think you need actual occurrence numbers and \n",
    "# not just frequency/probability?) to compute quantiles over frequencies/\n",
    "# probabilities.\n",
    "quantile0_2 = np.quantile(sample, 0.2)\n",
    "quantile0_2"
   ]
  },
  {
   "cell_type": "code",
   "execution_count": 11,
   "metadata": {},
   "outputs": [
    {
     "data": {
      "text/plain": [
       "0.20148999999999997"
      ]
     },
     "execution_count": 11,
     "metadata": {},
     "output_type": "execute_result"
    }
   ],
   "source": [
    "sample_freq[sample_freq.index <= quantile0_2].sum()"
   ]
  },
  {
   "cell_type": "code",
   "execution_count": 12,
   "metadata": {},
   "outputs": [
    {
     "data": {
      "text/plain": [
       "0.7607607607607607"
      ]
     },
     "execution_count": 12,
     "metadata": {},
     "output_type": "execute_result"
    }
   ],
   "source": [
    "# 2E5\n",
    "quantile0_8 = np.quantile(sample, 0.8)\n",
    "quantile0_8"
   ]
  },
  {
   "cell_type": "code",
   "execution_count": 13,
   "metadata": {},
   "outputs": [
    {
     "data": {
      "text/plain": [
       "0.19879"
      ]
     },
     "execution_count": 13,
     "metadata": {},
     "output_type": "execute_result"
    }
   ],
   "source": [
    "sample_freq[sample_freq.index > quantile0_8].sum()"
   ]
  },
  {
   "cell_type": "code",
   "execution_count": 14,
   "metadata": {},
   "outputs": [],
   "source": [
    "# 3E6\n",
    "def hdpi(sample, density):\n",
    "    \"\"\"Compute the highest density interval of the given density\n",
    "    using the given samples from a distribution.\"\"\"\n",
    "    param_values, counts = np.unique(sample, return_counts=True)\n",
    "    distribution = pd.Series(\n",
    "        index=param_values,\n",
    "        data=counts / len(sample)\n",
    "    )\n",
    "    \n",
    "    distr_cumsum = distribution.cumsum()\n",
    "    cumsum_density = distr_cumsum + density\n",
    "    cumsum_density = cumsum_density[cumsum_density <= 1.0]\n",
    "    # TODO do we need to finagle the np.quantile call to ensure it\n",
    "    # only returns parameter values in the grid?\n",
    "    q_series = cumsum_density.apply(lambda q: np.quantile(sample, q))\n",
    "    \n",
    "    fin_series = pd.Series(\n",
    "        data=(q_series.values - q_series.index),\n",
    "        index=q_series\n",
    "    )\n",
    "    \n",
    "    fin_df = pd.DataFrame(\n",
    "        data={\n",
    "            \"rhs\": q_series.values,\n",
    "            \"width\": q_series.values - q_series.index\n",
    "        },\n",
    "        index=q_series.index\n",
    "    )\n",
    "    \n",
    "    # interval of given density with minimum width\n",
    "    lhs = fin_df[\"width\"].idxmin()\n",
    "    return (lhs, fin_df[\"rhs\"][lhs])"
   ]
  },
  {
   "cell_type": "code",
   "execution_count": 15,
   "metadata": {},
   "outputs": [],
   "source": [
    "hpdi_interval = hdpi(sample, 0.66)"
   ]
  },
  {
   "cell_type": "code",
   "execution_count": 16,
   "metadata": {},
   "outputs": [],
   "source": [
    "# 3E7\n",
    "outside_half_density = (1-0.66)/2\n",
    "eq_lhs = np.quantile(sample, outside_half_density)\n",
    "eq_rhs = np.quantile(sample, 1 - outside_half_density)\n",
    "symmetric_interval = (eq_lhs, eq_rhs)"
   ]
  },
  {
   "cell_type": "code",
   "execution_count": 17,
   "metadata": {},
   "outputs": [
    {
     "data": {
      "text/plain": [
       "0.6266266266266266"
      ]
     },
     "execution_count": 17,
     "metadata": {},
     "output_type": "execute_result"
    }
   ],
   "source": [
    "# bonus: what is the value of p with maximal density?\n",
    "sample_freq.idxmax()"
   ]
  },
  {
   "cell_type": "code",
   "execution_count": 18,
   "metadata": {},
   "outputs": [
    {
     "data": {
      "text/plain": [
       "(0.27527527527527523, 0.27227227227227224)"
      ]
     },
     "execution_count": 18,
     "metadata": {},
     "output_type": "execute_result"
    }
   ],
   "source": [
    "# bonus: widths of the two intervals\n",
    "symmetric_width = symmetric_interval[1] - symmetric_interval[0]\n",
    "hpdi_width = hpdi_interval[1] - hpdi_interval[0]\n",
    "(symmetric_width, hpdi_width)"
   ]
  },
  {
   "cell_type": "code",
   "execution_count": 19,
   "metadata": {},
   "outputs": [
    {
     "data": {
      "text/plain": [
       "<matplotlib.axes._subplots.AxesSubplot at 0x1a226c45c0>"
      ]
     },
     "execution_count": 19,
     "metadata": {},
     "output_type": "execute_result"
    },
    {
     "data": {
      "image/png": "[encoded data removed]",
      "text/plain": [
       "<Figure size 432x288 with 1 Axes>"
      ]
     },
     "metadata": {
      "needs_background": "light"
     },
     "output_type": "display_data"
    }
   ],
   "source": [
    "# 3M1\n",
    "posterior2 = pd.Series(\n",
    "    data=ralphlib.grid_approx(\n",
    "        ralphlib.uniform_prior,\n",
    "        world_toss_likelihood(8, 15),\n",
    "        grid\n",
    "    ),\n",
    "    index=grid\n",
    ")\n",
    "posterior2.plot()"
   ]
  },
  {
   "cell_type": "code",
   "execution_count": 20,
   "metadata": {},
   "outputs": [
    {
     "data": {
      "text/plain": [
       "(0.3303303303303303, 0.7167167167167167)"
      ]
     },
     "execution_count": 20,
     "metadata": {},
     "output_type": "execute_result"
    }
   ],
   "source": [
    "# 3M2\n",
    "sample2 = ralphlib.sample(posterior2, 10000)\n",
    "hdpi(sample2, 0.9)"
   ]
  },
  {
   "cell_type": "code",
   "execution_count": 21,
   "metadata": {},
   "outputs": [
    {
     "data": {
      "text/plain": [
       "(array([   4.,   28.,  117.,  258.,  544.,  821., 1141., 1340., 1492.,\n",
       "        1369., 1193.,  860.,  495.,  236.,  102.]),\n",
       " array([ 0,  1,  2,  3,  4,  5,  6,  7,  8,  9, 10, 11, 12, 13, 14, 15]),\n",
       " <a list of 15 Patch objects>)"
      ]
     },
     "execution_count": 21,
     "metadata": {},
     "output_type": "execute_result"
    },
    {
     "data": {
      "image/png": "[encoded data removed]",
      "text/plain": [
       "<Figure size 432x288 with 1 Axes>"
      ]
     },
     "metadata": {
      "needs_background": "light"
     },
     "output_type": "display_data"
    }
   ],
   "source": [
    "# 3M3\n",
    "posterior_predictive_samples = np.vectorize(lambda p: np.random.binomial(15, p))(sample2)\n",
    "plt.hist(posterior_predictive_samples, range(0, 16))"
   ]
  },
  {
   "cell_type": "code",
   "execution_count": 22,
   "metadata": {},
   "outputs": [
    {
     "data": {
      "text/plain": [
       "<matplotlib.axes._subplots.AxesSubplot at 0x1a227f6978>"
      ]
     },
     "execution_count": 22,
     "metadata": {},
     "output_type": "execute_result"
    },
    {
     "data": {
      "image/png": "[encoded data removed]",
      "text/plain": [
       "<Figure size 432x288 with 1 Axes>"
      ]
     },
     "metadata": {
      "needs_background": "light"
     },
     "output_type": "display_data"
    }
   ],
   "source": [
    "pp_vals, pp_counts = np.unique(posterior_predictive_samples, return_counts=True)\n",
    "pp_distr = pd.Series(\n",
    "    data=pp_counts / len(posterior_predictive_samples),\n",
    "    index=pp_vals\n",
    ")\n",
    "pp_distr.plot()"
   ]
  },
  {
   "cell_type": "code",
   "execution_count": 33,
   "metadata": {},
   "outputs": [
    {
     "data": {
      "text/plain": [
       "0.157484"
      ]
     },
     "execution_count": 33,
     "metadata": {},
     "output_type": "execute_result"
    }
   ],
   "source": [
    "pp_distr[8]"
   ]
  },
  {
   "cell_type": "code",
   "execution_count": 24,
   "metadata": {},
   "outputs": [
    {
     "data": {
      "text/plain": [
       "0.1795"
      ]
     },
     "execution_count": 24,
     "metadata": {},
     "output_type": "execute_result"
    }
   ],
   "source": [
    "# 3M4\n",
    "posterior_predictive_samples_3m4 = np.vectorize(lambda p: np.random.binomial(9, p))(sample2)\n",
    "pp_3m4_vals, pp_3m4_counts = np.unique(posterior_predictive_samples_3m4, return_counts=True)\n",
    "pp_3m4_distr = pd.Series(\n",
    "    data=(pp_3m4_counts / len(sample2)),\n",
    "    index=pp_3m4_vals\n",
    ")\n",
    "pp_3m4_distr[6]"
   ]
  },
  {
   "cell_type": "code",
   "execution_count": 25,
   "metadata": {},
   "outputs": [
    {
     "data": {
      "text/plain": [
       "<matplotlib.axes._subplots.AxesSubplot at 0x1a228a83c8>"
      ]
     },
     "execution_count": 25,
     "metadata": {},
     "output_type": "execute_result"
    },
    {
     "data": {
      "image/png": "[encoded data removed]",
      "text/plain": [
       "<Figure size 432x288 with 1 Axes>"
      ]
     },
     "metadata": {
      "needs_background": "light"
     },
     "output_type": "display_data"
    }
   ],
   "source": [
    "# 3M7\n",
    "def nonuniform_prior(grid):\n",
    "    gte0_5_prior = ralphlib.uniform_prior(grid[grid >= 0.5])\n",
    "    gte0_5_prior *= 2\n",
    "    lt0_5_prior = grid[grid < 0.5]\n",
    "    lt0_5_prior.fill(0)\n",
    "    return pd.Series(\n",
    "        data=np.concatenate((lt0_5_prior, gte0_5_prior)),\n",
    "        index=grid\n",
    "    )\n",
    "\n",
    "posterior_non_uniform = pd.Series(\n",
    "    data=ralphlib.grid_approx(\n",
    "        nonuniform_prior,\n",
    "        world_toss_likelihood(8, 15),\n",
    "        grid\n",
    "    ),\n",
    "    index=grid\n",
    ")\n",
    "posterior_non_uniform.plot()"
   ]
  },
  {
   "cell_type": "code",
   "execution_count": 26,
   "metadata": {},
   "outputs": [
    {
     "data": {
      "text/plain": [
       "(array([2.47820e+05, 2.34797e+05, 2.03266e+05, 1.46556e+05, 9.26350e+04,\n",
       "        4.96230e+04, 1.91300e+04, 5.30200e+03, 8.13000e+02, 5.80000e+01]),\n",
       " array([0.5005005 , 0.54594595, 0.59139139, 0.63683684, 0.68228228,\n",
       "        0.72772773, 0.77317317, 0.81861862, 0.86406406, 0.90950951,\n",
       "        0.95495495]),\n",
       " <a list of 10 Patch objects>)"
      ]
     },
     "execution_count": 26,
     "metadata": {},
     "output_type": "execute_result"
    },
    {
     "data": {
      "image/png": "[encoded data removed]",
      "text/plain": [
       "<Figure size 432x288 with 1 Axes>"
      ]
     },
     "metadata": {
      "needs_background": "light"
     },
     "output_type": "display_data"
    }
   ],
   "source": [
    "nonuniform_sample = ralphlib.sample(posterior_non_uniform, 1000000)\n",
    "plt.hist(nonuniform_sample)"
   ]
  },
  {
   "cell_type": "code",
   "execution_count": 27,
   "metadata": {},
   "outputs": [
    {
     "data": {
      "text/plain": [
       "(0.5005005005005005, 0.7157157157157157)"
      ]
     },
     "execution_count": 27,
     "metadata": {},
     "output_type": "execute_result"
    }
   ],
   "source": [
    "hdpi(nonuniform_sample, 0.9)"
   ]
  },
  {
   "cell_type": "code",
   "execution_count": 28,
   "metadata": {},
   "outputs": [
    {
     "data": {
      "text/plain": [
       "<matplotlib.axes._subplots.AxesSubplot at 0x1a24270898>"
      ]
     },
     "execution_count": 28,
     "metadata": {},
     "output_type": "execute_result"
    },
    {
     "data": {
      "image/png": "[encoded data removed]",
      "text/plain": [
       "<Figure size 432x288 with 1 Axes>"
      ]
     },
     "metadata": {
      "needs_background": "light"
     },
     "output_type": "display_data"
    }
   ],
   "source": [
    "pp_sample = np.vectorize(lambda p: np.random.binomial(15, p))(nonuniform_sample)\n",
    "pp_vals, pp_counts = np.unique(pp_sample, return_counts=True)\n",
    "pp_distr = pd.Series(\n",
    "    data=pp_counts / len(pp_sample),\n",
    "    index = pp_vals\n",
    ")\n",
    "pp_distr.plot()"
   ]
  },
  {
   "cell_type": "code",
   "execution_count": 29,
   "metadata": {},
   "outputs": [
    {
     "data": {
      "text/plain": [
       "0.157484"
      ]
     },
     "execution_count": 29,
     "metadata": {},
     "output_type": "execute_result"
    }
   ],
   "source": [
    "pp_distr[8]"
   ]
  },
  {
   "cell_type": "code",
   "execution_count": 30,
   "metadata": {},
   "outputs": [
    {
     "data": {
      "text/plain": [
       "<matplotlib.axes._subplots.AxesSubplot at 0x1a25ab7518>"
      ]
     },
     "execution_count": 30,
     "metadata": {},
     "output_type": "execute_result"
    },
    {
     "data": {
      "image/png": "[encoded data removed]",
      "text/plain": [
       "<Figure size 432x288 with 1 Axes>"
      ]
     },
     "metadata": {
      "needs_background": "light"
     },
     "output_type": "display_data"
    }
   ],
   "source": [
    "pp_sample9 = np.vectorize(lambda p: np.random.binomial(9, p))(nonuniform_sample)\n",
    "pp_vals9, pp_counts9 = np.unique(pp_sample9, return_counts=True)\n",
    "pp_distr9 = pd.Series(\n",
    "    data=pp_counts9 / len(pp_sample9),\n",
    "    index = pp_vals9\n",
    ")\n",
    "pp_distr9.plot()"
   ]
  },
  {
   "cell_type": "code",
   "execution_count": 37,
   "metadata": {},
   "outputs": [
    {
     "data": {
      "text/plain": [
       "0.005485"
      ]
     },
     "execution_count": 37,
     "metadata": {},
     "output_type": "execute_result"
    }
   ],
   "source": [
    "pp_distr9[1]"
   ]
  },
  {
   "cell_type": "markdown",
   "metadata": {},
   "source": [
    "The prior shifted probability density in the posterior predictive check to the right -- to more water. In the posterior distribution over $p$ itself, the entire region below 0.5 is zeroed out. "
   ]
  },
  {
   "cell_type": "code",
   "execution_count": 39,
   "metadata": {},
   "outputs": [],
   "source": [
    "# Hard problem intro\n",
    "birth1 = np.array([1,0,0,0,1,1,0,1,0,1,0,0,1,1,0,1,1,0,0,0,1,0,0,0,1,0, 0,0,0,1,1,1,0,1,0,1,1,1,0,1,0,1,1,0,1,0,0,1,1,0,1,0,0,0,0,0,0,0, 1,1,0,1,0,0,1,0,0,0,1,0,0,1,1,1,1,0,1,0,1,1,1,1,1,0,0,1,0,1,1,0,1,0,1,1,1,0,1,1,1,1])\n",
    "birth2 = np.array([0,1,0,1,0,1,1,1,0,0,1,1,1,1,1,0,0,1,1,1,0,0,1,1,1,0,\n",
    "1,1,1,0,1,1,1,0,1,0,0,1,1,1,1,0,0,1,0,1,1,1,1,1,1,1,1,1,1,1,1,1,\n",
    "1,1,1,0,1,1,0,1,1,0,1,1,1,0,0,0,0,0,0,1,0,0,0,1,1,0,0,1,0,0,1,1,\n",
    "0,0,0,1,1,1,0,0,0,0])"
   ]
  },
  {
   "cell_type": "code",
   "execution_count": 43,
   "metadata": {},
   "outputs": [
    {
     "data": {
      "text/plain": [
       "<matplotlib.axes._subplots.AxesSubplot at 0x1a25639a58>"
      ]
     },
     "execution_count": 43,
     "metadata": {},
     "output_type": "execute_result"
    },
    {
     "data": {
      "image/png": "[encoded data removed]",
      "text/plain": [
       "<Figure size 432x288 with 1 Axes>"
      ]
     },
     "metadata": {
      "needs_background": "light"
     },
     "output_type": "display_data"
    }
   ],
   "source": [
    "# 3H1\n",
    "def births_likelihood(births):\n",
    "    return lambda grid: stats.binom.pmf(sum(births), len(births), grid)\n",
    "\n",
    "births_grid = np.linspace(start=0, stop=1, num=1000)\n",
    "births_posterior = pd.Series(\n",
    "    data=ralphlib.grid_approx(\n",
    "        ralphlib.uniform_prior,\n",
    "        births_likelihood(np.concatenate((birth1, birth2))),\n",
    "        births_grid\n",
    "    ),\n",
    "    index=births_grid\n",
    ")\n",
    "births_posterior.plot()"
   ]
  },
  {
   "cell_type": "code",
   "execution_count": 48,
   "metadata": {},
   "outputs": [
    {
     "data": {
      "text/plain": [
       "0.5545545545545546"
      ]
     },
     "execution_count": 48,
     "metadata": {},
     "output_type": "execute_result"
    }
   ],
   "source": [
    "# maximum a posteriori estimate of p == probability of boy\n",
    "births_map = births_posterior.idxmax()\n",
    "births_map"
   ]
  },
  {
   "cell_type": "code",
   "execution_count": 54,
   "metadata": {},
   "outputs": [
    {
     "data": {
      "text/plain": [
       "[(0.5315315315315315, 0.5785785785785785),\n",
       " (0.5005005005005005, 0.6126126126126126),\n",
       " (0.4754754754754755, 0.6256256256256256)]"
      ]
     },
     "execution_count": 54,
     "metadata": {},
     "output_type": "execute_result"
    }
   ],
   "source": [
    "# 3H2\n",
    "births_sample = ralphlib.sample(births_posterior, 10000)\n",
    "[\n",
    "    hdpi(births_sample, 0.5),\n",
    "    hdpi(births_sample, 0.89),\n",
    "    hdpi(births_sample, 0.97)\n",
    "]"
   ]
  },
  {
   "cell_type": "code",
   "execution_count": 63,
   "metadata": {},
   "outputs": [
    {
     "data": {
      "text/plain": [
       "<matplotlib.axes._subplots.AxesSubplot at 0x1a25aa6ba8>"
      ]
     },
     "execution_count": 63,
     "metadata": {},
     "output_type": "execute_result"
    },
    {
     "data": {
      "image/png": "[encoded data removed]",
      "text/plain": [
       "<Figure size 432x288 with 1 Axes>"
      ]
     },
     "metadata": {
      "needs_background": "light"
     },
     "output_type": "display_data"
    }
   ],
   "source": [
    "gen_births_pp_sample = np.vectorize(lambda p: np.random.binomial(len(birth1) + len(birth2), p))\n",
    "births_pp_sample = gen_births_pp_sample(births_sample)\n",
    "births_pp_freq = ralphlib.normalize(births_pp_sample, range(0, len(birth1) + len(birth2) + 1))\n",
    "births_pp_freq.plot()"
   ]
  },
  {
   "cell_type": "code",
   "execution_count": 74,
   "metadata": {},
   "outputs": [
    {
     "data": {
      "text/plain": [
       "(104, 112.0)"
      ]
     },
     "execution_count": 74,
     "metadata": {},
     "output_type": "execute_result"
    }
   ],
   "source": [
    "(sum(birth1) + sum(bhdpi(births_pp_sample, 0.3)"
   ]
  },
  {
   "cell_type": "code",
   "execution_count": null,
   "metadata": {},
   "outputs": [],
   "source": [
    "births_pp_freq[sum(birth)]"
   ]
  }
 ],
 "metadata": {
  "kernelspec": {
   "display_name": "Python 3",
   "language": "python",
   "name": "python3"
  },
  "language_info": {
   "codemirror_mode": {
    "name": "ipython",
    "version": 3
   },
   "file_extension": ".py",
   "mimetype": "text/x-python",
   "name": "python",
   "nbconvert_exporter": "python",
   "pygments_lexer": "ipython3",
   "version": "3.7.1"
  }
 },
 "nbformat": 4,
 "nbformat_minor": 2
}
