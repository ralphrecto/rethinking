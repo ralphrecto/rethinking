{
 "cells": [
  {
   "cell_type": "code",
   "execution_count": 2,
   "metadata": {},
   "outputs": [],
   "source": [
    "# Prelude\n",
    "import ralphlib\n",
    "import scipy.stats as stats\n",
    "import numpy as np\n",
    "import pandas as pd\n",
    "import matplotlib.pyplot as plt\n",
    "\n",
    "%load_ext autoreload\n",
    "%autoreload 2"
   ]
  },
  {
   "cell_type": "code",
   "execution_count": 23,
   "metadata": {},
   "outputs": [
    {
     "data": {
      "text/plain": [
       "<matplotlib.axes._subplots.AxesSubplot at 0x1a25329cf8>"
      ]
     },
     "execution_count": 23,
     "metadata": {},
     "output_type": "execute_result"
    },
    {
     "data": {
      "image/png": "[encoded data removed]",
      "text/plain": [
       "<Figure size 432x288 with 1 Axes>"
      ]
     },
     "metadata": {
      "needs_background": "light"
     },
     "output_type": "display_data"
    }
   ],
   "source": [
    "# 3E1\n",
    "def world_toss_likelihood(num_water, num_tries):\n",
    "    return lambda grid: stats.binom.pmf(num_water, num_tries, grid)\n",
    "\n",
    "grid = np.linspace(start=0, stop=1, num=1000)\n",
    "posterior = pd.Series(\n",
    "    data=ralphlib.grid_approx(\n",
    "        ralphlib.uniform_prior,\n",
    "        world_toss_likelihood(6, 9),\n",
    "        grid\n",
    "    ),\n",
    "    index=grid\n",
    ")\n",
    "posterior.plot()"
   ]
  },
  {
   "cell_type": "code",
   "execution_count": 24,
   "metadata": {},
   "outputs": [
    {
     "data": {
      "text/plain": [
       "0.9991439048705782"
      ]
     },
     "execution_count": 24,
     "metadata": {},
     "output_type": "execute_result"
    }
   ],
   "source": [
    "posterior[posterior.index >= 0.2].sum()"
   ]
  },
  {
   "cell_type": "code",
   "execution_count": 25,
   "metadata": {},
   "outputs": [
    {
     "data": {
      "text/plain": [
       "(array([   38.,   422.,  2299.,  6811., 13779., 21123., 24630., 19985.,\n",
       "         9480.,  1433.]),\n",
       " array([0.08308308, 0.17347347, 0.26386386, 0.35425425, 0.44464464,\n",
       "        0.53503504, 0.62542543, 0.71581582, 0.80620621, 0.8965966 ,\n",
       "        0.98698699]),\n",
       " <a list of 10 Patch objects>)"
      ]
     },
     "execution_count": 25,
     "metadata": {},
     "output_type": "execute_result"
    },
    {
     "data": {
      "image/png": "[encoded data removed]",
      "text/plain": [
       "<Figure size 432x288 with 1 Axes>"
      ]
     },
     "metadata": {
      "needs_background": "light"
     },
     "output_type": "display_data"
    }
   ],
   "source": [
    "sample_size = 100000\n",
    "sample = ralphlib.sample(posterior, sample_size)\n",
    "plt.hist(sample)"
   ]
  },
  {
   "cell_type": "code",
   "execution_count": 26,
   "metadata": {},
   "outputs": [],
   "source": [
    "param_values, counts = np.unique(sample, return_counts=True)\n",
    "sample_freq = pd.Series(\n",
    "    index=param_values,\n",
    "    data=counts / sample_size\n",
    ")"
   ]
  },
  {
   "cell_type": "code",
   "execution_count": 27,
   "metadata": {},
   "outputs": [
    {
     "data": {
      "text/plain": [
       "0.0008300000000000002"
      ]
     },
     "execution_count": 27,
     "metadata": {},
     "output_type": "execute_result"
    }
   ],
   "source": [
    "# 3E1\n",
    "# Note: we are working with frequencies here! \n",
    "sample_freq[sample_freq.index < 0.2].sum()"
   ]
  },
  {
   "cell_type": "code",
   "execution_count": 28,
   "metadata": {},
   "outputs": [
    {
     "data": {
      "text/plain": [
       "0.11969"
      ]
     },
     "execution_count": 28,
     "metadata": {},
     "output_type": "execute_result"
    }
   ],
   "source": [
    "# 3E2\n",
    "sample_freq[sample_freq.index > 0.8].sum()"
   ]
  },
  {
   "cell_type": "code",
   "execution_count": 29,
   "metadata": {},
   "outputs": [
    {
     "data": {
      "text/plain": [
       "0.8794799999999999"
      ]
     },
     "execution_count": 29,
     "metadata": {},
     "output_type": "execute_result"
    }
   ],
   "source": [
    "# 3E3\n",
    "sample_freq[(sample_freq.index > 0.2) & (sample_freq.index < 0.8)].sum()"
   ]
  },
  {
   "cell_type": "code",
   "execution_count": 30,
   "metadata": {},
   "outputs": [
    {
     "data": {
      "text/plain": [
       "0.5175175175175175"
      ]
     },
     "execution_count": 30,
     "metadata": {},
     "output_type": "execute_result"
    }
   ],
   "source": [
    "# 2E4\n",
    "# Note: we are working directly with samples here!\n",
    "# It's not easy (or possible? I think you need actual occurrence numbers and \n",
    "# not just frequency/probability?) to compute quantiles over frequencies/\n",
    "# probabilities.\n",
    "quantile0_2 = np.quantile(sample, 0.2)\n",
    "quantile0_2"
   ]
  },
  {
   "cell_type": "code",
   "execution_count": 31,
   "metadata": {},
   "outputs": [
    {
     "data": {
      "text/plain": [
       "0.20065999999999998"
      ]
     },
     "execution_count": 31,
     "metadata": {},
     "output_type": "execute_result"
    }
   ],
   "source": [
    "sample_freq[sample_freq.index <= quantile0_2].sum()"
   ]
  },
  {
   "cell_type": "code",
   "execution_count": 32,
   "metadata": {},
   "outputs": [
    {
     "data": {
      "text/plain": [
       "0.7607607607607607"
      ]
     },
     "execution_count": 32,
     "metadata": {},
     "output_type": "execute_result"
    }
   ],
   "source": [
    "# 2E5\n",
    "quantile0_8 = np.quantile(sample, 0.8)\n",
    "quantile0_8"
   ]
  },
  {
   "cell_type": "code",
   "execution_count": 33,
   "metadata": {},
   "outputs": [
    {
     "data": {
      "text/plain": [
       "0.19836"
      ]
     },
     "execution_count": 33,
     "metadata": {},
     "output_type": "execute_result"
    }
   ],
   "source": [
    "sample_freq[sample_freq.index > quantile0_8].sum()"
   ]
  },
  {
   "cell_type": "code",
   "execution_count": 40,
   "metadata": {},
   "outputs": [],
   "source": [
    "# 3E6\n",
    "def hdpi(sample, density):\n",
    "    \"\"\"Compute the highest density interval of the given density\n",
    "    using the given samples from a distribution.\"\"\"\n",
    "    param_values, counts = np.unique(sample, return_counts=True)\n",
    "    distribution = pd.Series(\n",
    "        index=param_values,\n",
    "        data=counts / len(sample)\n",
    "    )\n",
    "    \n",
    "    distr_cumsum = distribution.cumsum()\n",
    "    cumsum_density = distr_cumsum + density\n",
    "    cumsum_density = cumsum_density[cumsum_density <= 1.0]\n",
    "    # TODO do we need to finagle the np.quantile call to ensure it\n",
    "    # only returns parameter values in the grid?\n",
    "    q_series = cumsum_density.apply(lambda q: np.quantile(sample, q))\n",
    "    \n",
    "    fin_series = pd.Series(\n",
    "        data=(q_series.values - q_series.index),\n",
    "        index=q_series\n",
    "    )\n",
    "    \n",
    "    fin_df = pd.DataFrame(\n",
    "        data={\n",
    "            \"rhs\": q_series.values,\n",
    "            \"width\": q_series.values - q_series.index\n",
    "        },\n",
    "        index=q_series.index\n",
    "    )\n",
    "    \n",
    "    # interval of given density with minimum width\n",
    "    lhs = fin_df[\"width\"].idxmin()\n",
    "    return (lhs, fin_df[\"rhs\"][lhs])"
   ]
  },
  {
   "cell_type": "code",
   "execution_count": 35,
   "metadata": {},
   "outputs": [
    {
     "data": {
      "text/plain": [
       "(0.5195195195195195, 0.7907907907907907)"
      ]
     },
     "execution_count": 35,
     "metadata": {},
     "output_type": "execute_result"
    }
   ],
   "source": [
    "hdpi(sample, 0.66)"
   ]
  },
  {
   "cell_type": "code",
   "execution_count": 36,
   "metadata": {},
   "outputs": [],
   "source": [
    "# 3E7\n",
    "outside_half_density = (1-0.66)/2\n",
    "eq_lhs = np.quantile(sample, outside_half_density)\n",
    "eq_rhs = np.quantile(sample, 1 - outside_half_density)\n",
    "symmetric_interval = (eq_lhs, eq_rhs)"
   ]
  },
  {
   "cell_type": "code",
   "execution_count": 37,
   "metadata": {},
   "outputs": [
    {
     "data": {
      "text/plain": [
       "0.7007007007007007"
      ]
     },
     "execution_count": 37,
     "metadata": {},
     "output_type": "execute_result"
    }
   ],
   "source": [
    "# bonus: what is the value of p with maximal density?\n",
    "sample_freq.idxmax()"
   ]
  },
  {
   "cell_type": "code",
   "execution_count": 41,
   "metadata": {},
   "outputs": [
    {
     "data": {
      "text/plain": [
       "(0.27427427427427425, 0.19419419419419415)"
      ]
     },
     "execution_count": 41,
     "metadata": {},
     "output_type": "execute_result"
    }
   ],
   "source": [
    "# bonus: widths of the two intervals\n",
    "symmetric_width = symmetric_interval[1] - symmetric_interval[0]\n",
    "hpdi_width = hpdi_interval[1] - hpdi_interval[0]\n",
    "(symmetric_width, hpdi_width)"
   ]
  },
  {
   "cell_type": "code",
   "execution_count": 43,
   "metadata": {},
   "outputs": [
    {
     "data": {
      "text/plain": [
       "<matplotlib.axes._subplots.AxesSubplot at 0x1a2559d8d0>"
      ]
     },
     "execution_count": 43,
     "metadata": {},
     "output_type": "execute_result"
    },
    {
     "data": {
      "image/png": "[encoded data removed]",
      "text/plain": [
       "<Figure size 432x288 with 1 Axes>"
      ]
     },
     "metadata": {
      "needs_background": "light"
     },
     "output_type": "display_data"
    }
   ],
   "source": [
    "# 3M1\n",
    "posterior2 = pd.Series(\n",
    "    data=ralphlib.grid_approx(\n",
    "        ralphlib.uniform_prior,\n",
    "        world_toss_likelihood(8, 15),\n",
    "        grid\n",
    "    ),\n",
    "    index=grid\n",
    ")\n",
    "posterior2.plot()"
   ]
  },
  {
   "cell_type": "code",
   "execution_count": 46,
   "metadata": {},
   "outputs": [
    {
     "data": {
      "text/plain": [
       "(0.3353353353353353, 0.7227227227227228)"
      ]
     },
     "execution_count": 46,
     "metadata": {},
     "output_type": "execute_result"
    }
   ],
   "source": [
    "# 3M2\n",
    "sample2 = ralphlib.sample(posterior2, 10000)\n",
    "hdpi(sample2, 0.9)"
   ]
  },
  {
   "cell_type": "code",
   "execution_count": 56,
   "metadata": {},
   "outputs": [
    {
     "data": {
      "text/plain": [
       "(array([   7.,   35.,  105.,  276.,  534.,  776., 1152., 1429., 1530.,\n",
       "        1374., 1111.,  798.,  522.,  253.,   98.]),\n",
       " array([ 0,  1,  2,  3,  4,  5,  6,  7,  8,  9, 10, 11, 12, 13, 14, 15]),\n",
       " <a list of 15 Patch objects>)"
      ]
     },
     "execution_count": 56,
     "metadata": {},
     "output_type": "execute_result"
    },
    {
     "data": {
      "image/png": "[encoded data removed]",
      "text/plain": [
       "<Figure size 432x288 with 1 Axes>"
      ]
     },
     "metadata": {
      "needs_background": "light"
     },
     "output_type": "display_data"
    }
   ],
   "source": [
    "# 3M3\n",
    "posterior_predictive_samples = np.vectorize(lambda p: np.random.binomial(15, p))(sample2)\n",
    "plt.hist(posterior_predictive_samples, range(0, 16))"
   ]
  },
  {
   "cell_type": "code",
   "execution_count": 63,
   "metadata": {},
   "outputs": [
    {
     "data": {
      "text/plain": [
       "<matplotlib.axes._subplots.AxesSubplot at 0x1a25959be0>"
      ]
     },
     "execution_count": 63,
     "metadata": {},
     "output_type": "execute_result"
    },
    {
     "data": {
      "image/png": "[encoded data removed]",
      "text/plain": [
       "<Figure size 432x288 with 1 Axes>"
      ]
     },
     "metadata": {
      "needs_background": "light"
     },
     "output_type": "display_data"
    }
   ],
   "source": [
    "pp_vals, pp_counts = np.unique(posterior_predictive_samples, return_counts=True)\n",
    "pp_distr = pd.Series(\n",
    "    data=pp_counts / len(posterior_predictive_samples),\n",
    "    index=pp_vals\n",
    ")\n",
    "pp_distr.plot()"
   ]
  },
  {
   "cell_type": "code",
   "execution_count": 65,
   "metadata": {},
   "outputs": [
    {
     "data": {
      "text/plain": [
       "0.153"
      ]
     },
     "execution_count": 65,
     "metadata": {},
     "output_type": "execute_result"
    }
   ],
   "source": [
    "pp_distr[8]"
   ]
  }
 ],
 "metadata": {
  "kernelspec": {
   "display_name": "Python 3",
   "language": "python",
   "name": "python3"
  },
  "language_info": {
   "codemirror_mode": {
    "name": "ipython",
    "version": 3
   },
   "file_extension": ".py",
   "mimetype": "text/x-python",
   "name": "python",
   "nbconvert_exporter": "python",
   "pygments_lexer": "ipython3",
   "version": "3.7.1"
  }
 },
 "nbformat": 4,
 "nbformat_minor": 2
}
